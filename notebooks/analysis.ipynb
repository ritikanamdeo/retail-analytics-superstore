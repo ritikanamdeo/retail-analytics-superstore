# Retail Analytics - Superstore Project

import pandas as pd
import matplotlib.pyplot as plt
import seaborn as sns

# Load dataset
df = pd.read_csv("Superstore.csv")   # put your file in the same folder or give path

# Preview data
print(df.head())

# Dataset info
print(df.info())
print(df.describe())

# Sales by Category
plt.figure(figsize=(8,5))
sns.barplot(data=df, x="Category", y="Sales", estimator=sum)
plt.title("Total Sales by Category")
plt.show()

# Profit by Region
plt.figure(figsize=(8,5))
sns.barplot(data=df, x="Region", y="Profit", estimator=sum)
plt.title("Profit by Region")
plt.show()

# Discount vs Profit scatterplot
plt.figure(figsize=(8,5))
sns.scatterplot(data=df, x="Discount", y="Profit")
plt.title("Impact of Discount on Profit")
plt.show()
